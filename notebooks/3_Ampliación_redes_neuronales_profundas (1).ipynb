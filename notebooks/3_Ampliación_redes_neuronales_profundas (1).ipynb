{
  "nbformat": 4,
  "nbformat_minor": 0,
  "metadata": {
    "colab": {
      "provenance": []
    },
    "kernelspec": {
      "name": "python3",
      "display_name": "Python 3"
    },
    "language_info": {
      "name": "python"
    }
  },
  "cells": [
    {
      "cell_type": "markdown",
      "source": [
        "Durante la práctica hemos incluido la primera hidden layer de 32 neuronas para **dar el efecto de dar profundidad a nuestra red** creando ya un *multilayer perceptron*. Para ello hemos definido las variables ```(W1, B1)``` y ```(W2, B2)```  y re-calculaado  las predicciones como $\\hat{Y} = softmax(Y1*W2 + B2)$ siendo $Y1 = FA(X*W1+ B1)$, siendo FA la función de activación(aunque todo esto lo ha hecho keras por nosotros)\n",
        "\n",
        "Hay que tener en cuenta que conforme le damos profundidad a la red es importante inicializar los pesos (```W1``` y ```W2``` en nuestro caso) con **valores aleatorios siguiendo una distribución gaussiana**. De otra forma, el optimizador puede quedarse atascado en la posición inicial y no ser capaz de moverse en la dirección del mínimo de la función de pérdidas. \n",
        "\n",
        "A partir de dos capas ocultas en adelante es cuando podemos hablar de **redes neuronales profundas**. Ahora vamos a darle más profundidad a nuestra red poniendo cuatro capas ocultas, nuestra deep net estará compuesta por la entrada, cuatro capas ocultas con 200, 100, 60 y 30 neuronas, respectivamente y la capa de salida con las 10 neuronas.\n",
        "\n"
      ],
      "metadata": {
        "id": "61FH8k4maazz"
      }
    },
    {
      "cell_type": "code",
      "source": [
        "import tensorflow as tf\n",
        "from sklearn.model_selection import train_test_split\n",
        "from tensorflow.keras.utils import to_categorical\n",
        "\n",
        "# Importamos el dataset MNIST desde Keras datasets y cargamos los datos #(X)\n",
        "mnist = tf.keras.datasets.mnist\n",
        "(x_train, y_train), (x_te, y_te) = mnist.load_data()\n",
        "# Normalizamos los datos en el rango de 0-1 para que computacionalmente sea más eficiente el proceso #(X)\n",
        "x_train, x_te = x_train / 255.0, x_te / 255.0\n",
        "# Pasamos a etiquetas one-hot encoded #(X)\n",
        "y_train = to_categorical(y_train)\n",
        "y_te = to_categorical(y_te)\n",
        "# Dividimos el conjunto de training en training y validation #(X)\n",
        "x_tr, x_val, y_tr, y_val = train_test_split(x_train, y_train, test_size=0.1, random_state=42)"
      ],
      "metadata": {
        "colab": {
          "base_uri": "https://localhost:8080/"
        },
        "id": "KcGa5Ia5OUer",
        "outputId": "e09932f9-5a54-4cf8-c100-505ab0bc3b97"
      },
      "execution_count": null,
      "outputs": [
        {
          "output_type": "stream",
          "name": "stdout",
          "text": [
            "Downloading data from https://storage.googleapis.com/tensorflow/tf-keras-datasets/mnist.npz\n",
            "11490434/11490434 [==============================] - 1s 0us/step\n"
          ]
        }
      ]
    },
    {
      "cell_type": "code",
      "source": [
        "import numpy as np\n",
        "import tensorflow as tf\n",
        "from tensorflow.keras.models import Sequential\n",
        "from sklearn.metrics import classification_report\n",
        "from tensorflow.keras.layers import Dense, Flatten, Input\n",
        "from tensorflow.keras.optimizers import SGD\n",
        "import matplotlib.pyplot as plt"
      ],
      "metadata": {
        "id": "bEzVePRxPpGv"
      },
      "execution_count": null,
      "outputs": []
    },
    {
      "cell_type": "code",
      "source": [
        "# definimos la función para entrenar nuestra red con los parámetros deseados\n",
        "def train_deep_net(activation_function, learning_rate, lr_decay, batch_size, num_epochs):\n",
        "  \n",
        "  # Implementamos la red empleando Keras\n",
        "  ## Code ##\n",
        "  # Compilamos y entrenamos el modelo SGD\n",
        "  print(\"[INFO]: Entrenando red neuronal...\")\n",
        "  model.compile(loss=\"categorical_crossentropy\", optimizer=SGD(learning_rate, decay=lr_decay/num_epochs), metrics=[\"accuracy\"])  #(X)\n",
        "\n",
        "  # Entrenando la solución\n",
        "  H = model.fit(x_tr, y_tr, validation_data=(x_val, y_val), epochs=num_epochs, batch_size=batch_size)  #(X)\n",
        "\n",
        "  # Evaluando el modelo de predicción con las imágenes de test\n",
        "  print(\"[INFO]: Evaluando red neuronal...\")\n",
        "  predictions = model.predict(x_te, batch_size=batch_size) \n",
        "  print(classification_report(y_te.argmax(axis=1), predictions.argmax(axis=1)))\n",
        "\n",
        "  # Muestro gráfica de accuracy y losses\n",
        "  plt.style.use(\"ggplot\")\n",
        "  plt.figure()\n",
        "  plt.plot(np.arange(0, num_epochs), H.history[\"loss\"], label=\"train_loss\")\n",
        "  plt.plot(np.arange(0, num_epochs), H.history[\"val_loss\"], label=\"val_loss\")\n",
        "  plt.plot(np.arange(0, num_epochs), H.history[\"accuracy\"], label=\"train_acc\")\n",
        "  plt.plot(np.arange(0, num_epochs), H.history[\"val_accuracy\"], label=\"val_acc\")\n",
        "  plt.title(\"Training Loss and Accuracy\")\n",
        "  plt.xlabel(\"Epoch #\")\n",
        "  plt.ylabel(\"Loss/Accuracy\")\n",
        "  plt.legend()"
      ],
      "metadata": {
        "id": "PXFLhMxSOgBq"
      },
      "execution_count": null,
      "outputs": []
    },
    {
      "cell_type": "code",
      "source": [
        "activation_function = tf.nn.relu\n",
        "learning_rate = 0.1\n",
        "lr_decay = 1e-3\n",
        "num_epochs = 50\n",
        "batch_size = 128\n",
        "train_deep_net(activation_function, learning_rate, lr_decay, batch_size, num_epochs)"
      ],
      "metadata": {
        "colab": {
          "base_uri": "https://localhost:8080/",
          "height": 1000
        },
        "id": "ETNlelvJPNoK",
        "outputId": "21db41d0-1a56-4ef0-f74f-a7e14acf0368"
      },
      "execution_count": null,
      "outputs": [
        {
          "output_type": "stream",
          "name": "stdout",
          "text": [
            "[INFO]: Entrenando red neuronal...\n",
            "Epoch 1/50\n",
            "422/422 [==============================] - 2s 5ms/step - loss: 0.5066 - accuracy: 0.8436 - val_loss: 0.2379 - val_accuracy: 0.9263\n",
            "Epoch 2/50\n",
            "422/422 [==============================] - 2s 5ms/step - loss: 0.1725 - accuracy: 0.9491 - val_loss: 0.1828 - val_accuracy: 0.9453\n",
            "Epoch 3/50\n",
            "422/422 [==============================] - 2s 5ms/step - loss: 0.1234 - accuracy: 0.9626 - val_loss: 0.1158 - val_accuracy: 0.9643\n",
            "Epoch 4/50\n",
            "422/422 [==============================] - 2s 5ms/step - loss: 0.0951 - accuracy: 0.9711 - val_loss: 0.0920 - val_accuracy: 0.9700\n",
            "Epoch 5/50\n",
            "422/422 [==============================] - 2s 5ms/step - loss: 0.0745 - accuracy: 0.9775 - val_loss: 0.0939 - val_accuracy: 0.9698\n",
            "Epoch 6/50\n",
            "422/422 [==============================] - 2s 6ms/step - loss: 0.0606 - accuracy: 0.9817 - val_loss: 0.0773 - val_accuracy: 0.9765\n",
            "Epoch 7/50\n",
            "422/422 [==============================] - 2s 5ms/step - loss: 0.0505 - accuracy: 0.9846 - val_loss: 0.0771 - val_accuracy: 0.9762\n",
            "Epoch 8/50\n",
            "422/422 [==============================] - 2s 5ms/step - loss: 0.0407 - accuracy: 0.9875 - val_loss: 0.0792 - val_accuracy: 0.9758\n",
            "Epoch 9/50\n",
            "422/422 [==============================] - 2s 5ms/step - loss: 0.0333 - accuracy: 0.9900 - val_loss: 0.0792 - val_accuracy: 0.9765\n",
            "Epoch 10/50\n",
            "422/422 [==============================] - 2s 6ms/step - loss: 0.0272 - accuracy: 0.9920 - val_loss: 0.0722 - val_accuracy: 0.9792\n",
            "Epoch 11/50\n",
            "422/422 [==============================] - 2s 6ms/step - loss: 0.0215 - accuracy: 0.9939 - val_loss: 0.0834 - val_accuracy: 0.9763\n",
            "Epoch 12/50\n",
            "422/422 [==============================] - 3s 6ms/step - loss: 0.0183 - accuracy: 0.9949 - val_loss: 0.0782 - val_accuracy: 0.9782\n",
            "Epoch 13/50\n",
            "422/422 [==============================] - 2s 5ms/step - loss: 0.0135 - accuracy: 0.9965 - val_loss: 0.0737 - val_accuracy: 0.9787\n",
            "Epoch 14/50\n",
            "422/422 [==============================] - 2s 5ms/step - loss: 0.0113 - accuracy: 0.9972 - val_loss: 0.0726 - val_accuracy: 0.9790\n",
            "Epoch 15/50\n",
            "422/422 [==============================] - 2s 5ms/step - loss: 0.0078 - accuracy: 0.9984 - val_loss: 0.0788 - val_accuracy: 0.9798\n",
            "Epoch 16/50\n",
            "422/422 [==============================] - 2s 5ms/step - loss: 0.0056 - accuracy: 0.9992 - val_loss: 0.0763 - val_accuracy: 0.9808\n",
            "Epoch 17/50\n",
            "422/422 [==============================] - 3s 6ms/step - loss: 0.0041 - accuracy: 0.9995 - val_loss: 0.0803 - val_accuracy: 0.9803\n",
            "Epoch 18/50\n",
            "422/422 [==============================] - 2s 5ms/step - loss: 0.0041 - accuracy: 0.9993 - val_loss: 0.0802 - val_accuracy: 0.9793\n",
            "Epoch 19/50\n",
            "422/422 [==============================] - 2s 6ms/step - loss: 0.0024 - accuracy: 1.0000 - val_loss: 0.0803 - val_accuracy: 0.9805\n",
            "Epoch 20/50\n",
            "422/422 [==============================] - 2s 5ms/step - loss: 0.0019 - accuracy: 1.0000 - val_loss: 0.0782 - val_accuracy: 0.9807\n",
            "Epoch 21/50\n",
            "422/422 [==============================] - 2s 4ms/step - loss: 0.0016 - accuracy: 1.0000 - val_loss: 0.0828 - val_accuracy: 0.9803\n",
            "Epoch 22/50\n",
            "422/422 [==============================] - 2s 5ms/step - loss: 0.0014 - accuracy: 1.0000 - val_loss: 0.0837 - val_accuracy: 0.9798\n",
            "Epoch 23/50\n",
            "422/422 [==============================] - 2s 5ms/step - loss: 0.0012 - accuracy: 1.0000 - val_loss: 0.0831 - val_accuracy: 0.9807\n",
            "Epoch 24/50\n",
            "422/422 [==============================] - 2s 5ms/step - loss: 0.0010 - accuracy: 1.0000 - val_loss: 0.0864 - val_accuracy: 0.9805\n",
            "Epoch 25/50\n",
            "422/422 [==============================] - 2s 6ms/step - loss: 9.5567e-04 - accuracy: 1.0000 - val_loss: 0.0853 - val_accuracy: 0.9803\n",
            "Epoch 26/50\n",
            "422/422 [==============================] - 2s 6ms/step - loss: 8.3642e-04 - accuracy: 1.0000 - val_loss: 0.0867 - val_accuracy: 0.9805\n",
            "Epoch 27/50\n",
            "422/422 [==============================] - 2s 5ms/step - loss: 7.7333e-04 - accuracy: 1.0000 - val_loss: 0.0882 - val_accuracy: 0.9805\n",
            "Epoch 28/50\n",
            "422/422 [==============================] - 2s 5ms/step - loss: 7.2027e-04 - accuracy: 1.0000 - val_loss: 0.0872 - val_accuracy: 0.9808\n",
            "Epoch 29/50\n",
            "422/422 [==============================] - 2s 5ms/step - loss: 6.1593e-04 - accuracy: 1.0000 - val_loss: 0.0896 - val_accuracy: 0.9807\n",
            "Epoch 30/50\n",
            "422/422 [==============================] - 2s 5ms/step - loss: 5.5179e-04 - accuracy: 1.0000 - val_loss: 0.0897 - val_accuracy: 0.9800\n",
            "Epoch 31/50\n",
            "422/422 [==============================] - 2s 6ms/step - loss: 5.1345e-04 - accuracy: 1.0000 - val_loss: 0.0907 - val_accuracy: 0.9803\n",
            "Epoch 32/50\n",
            "422/422 [==============================] - 2s 4ms/step - loss: 4.7980e-04 - accuracy: 1.0000 - val_loss: 0.0908 - val_accuracy: 0.9805\n",
            "Epoch 33/50\n",
            "422/422 [==============================] - 2s 5ms/step - loss: 4.5179e-04 - accuracy: 1.0000 - val_loss: 0.0911 - val_accuracy: 0.9805\n",
            "Epoch 34/50\n",
            "422/422 [==============================] - 2s 5ms/step - loss: 4.2729e-04 - accuracy: 1.0000 - val_loss: 0.0916 - val_accuracy: 0.9807\n",
            "Epoch 35/50\n",
            "422/422 [==============================] - 2s 5ms/step - loss: 4.0338e-04 - accuracy: 1.0000 - val_loss: 0.0913 - val_accuracy: 0.9810\n",
            "Epoch 36/50\n",
            "422/422 [==============================] - 2s 5ms/step - loss: 3.8154e-04 - accuracy: 1.0000 - val_loss: 0.0920 - val_accuracy: 0.9802\n",
            "Epoch 37/50\n",
            "422/422 [==============================] - 2s 5ms/step - loss: 3.6524e-04 - accuracy: 1.0000 - val_loss: 0.0923 - val_accuracy: 0.9803\n",
            "Epoch 38/50\n",
            "422/422 [==============================] - 2s 5ms/step - loss: 3.4729e-04 - accuracy: 1.0000 - val_loss: 0.0934 - val_accuracy: 0.9802\n",
            "Epoch 39/50\n",
            "422/422 [==============================] - 2s 5ms/step - loss: 3.3172e-04 - accuracy: 1.0000 - val_loss: 0.0934 - val_accuracy: 0.9805\n",
            "Epoch 40/50\n",
            "422/422 [==============================] - 2s 5ms/step - loss: 3.1964e-04 - accuracy: 1.0000 - val_loss: 0.0940 - val_accuracy: 0.9807\n",
            "Epoch 41/50\n",
            "422/422 [==============================] - 2s 5ms/step - loss: 3.0472e-04 - accuracy: 1.0000 - val_loss: 0.0941 - val_accuracy: 0.9808\n",
            "Epoch 42/50\n",
            "422/422 [==============================] - 2s 5ms/step - loss: 2.9544e-04 - accuracy: 1.0000 - val_loss: 0.0950 - val_accuracy: 0.9802\n",
            "Epoch 43/50\n",
            "422/422 [==============================] - 2s 5ms/step - loss: 2.8375e-04 - accuracy: 1.0000 - val_loss: 0.0945 - val_accuracy: 0.9812\n",
            "Epoch 44/50\n",
            "422/422 [==============================] - 2s 5ms/step - loss: 2.7324e-04 - accuracy: 1.0000 - val_loss: 0.0946 - val_accuracy: 0.9808\n",
            "Epoch 45/50\n",
            "422/422 [==============================] - 3s 8ms/step - loss: 2.6334e-04 - accuracy: 1.0000 - val_loss: 0.0956 - val_accuracy: 0.9807\n",
            "Epoch 46/50\n",
            "422/422 [==============================] - 2s 6ms/step - loss: 2.5398e-04 - accuracy: 1.0000 - val_loss: 0.0955 - val_accuracy: 0.9810\n",
            "Epoch 47/50\n",
            "422/422 [==============================] - 2s 6ms/step - loss: 2.4637e-04 - accuracy: 1.0000 - val_loss: 0.0958 - val_accuracy: 0.9807\n",
            "Epoch 48/50\n",
            "422/422 [==============================] - 2s 5ms/step - loss: 2.3877e-04 - accuracy: 1.0000 - val_loss: 0.0960 - val_accuracy: 0.9810\n",
            "Epoch 49/50\n",
            "422/422 [==============================] - 2s 6ms/step - loss: 2.3118e-04 - accuracy: 1.0000 - val_loss: 0.0976 - val_accuracy: 0.9802\n",
            "Epoch 50/50\n",
            "422/422 [==============================] - 3s 6ms/step - loss: 2.2535e-04 - accuracy: 1.0000 - val_loss: 0.0969 - val_accuracy: 0.9810\n",
            "[INFO]: Evaluando red neuronal...\n",
            "79/79 [==============================] - 0s 2ms/step\n",
            "              precision    recall  f1-score   support\n",
            "\n",
            "           0       0.99      0.99      0.99       980\n",
            "           1       0.99      0.99      0.99      1135\n",
            "           2       0.98      0.98      0.98      1032\n",
            "           3       0.98      0.98      0.98      1010\n",
            "           4       0.98      0.99      0.98       982\n",
            "           5       0.98      0.97      0.98       892\n",
            "           6       0.99      0.98      0.98       958\n",
            "           7       0.98      0.98      0.98      1028\n",
            "           8       0.98      0.98      0.98       974\n",
            "           9       0.97      0.98      0.98      1009\n",
            "\n",
            "    accuracy                           0.98     10000\n",
            "   macro avg       0.98      0.98      0.98     10000\n",
            "weighted avg       0.98      0.98      0.98     10000\n",
            "\n"
          ]
        },
        {
          "output_type": "display_data",
          "data": {
            "text/plain": [
              "<Figure size 432x288 with 1 Axes>"
            ],
            "image/png": "[encoded data removed]"
          },
          "metadata": {}
        }
      ]
    },
    {
      "cell_type": "markdown",
      "source": [
        "Que programandolo en tensorflow sería:"
      ],
      "metadata": {
        "id": "7o6CPCUKP-Ry"
      }
    },
    {
      "metadata": {
        "id": "1f2q9gkgDLd9"
      },
      "cell_type": "code",
      "source": [
        "'''def train_deep_net(learning_rate, batch_size, num_epochs, act_function, optimizer):\n",
        "  # Creamos placeholders para ir almacenando los datos de entrada y los labels\n",
        "  X = tf.placeholder(tf.float32, [None, 784]) #(X) # Imágenes del mnist: 28*28 = 784\n",
        "  Y_true = tf.placeholder(tf.float32, [None, 10]) #(X) # Número indicando la clase 0-9 => 10 clases\n",
        "\n",
        "  # Creamos e inicializamos las variables W y b con valores aleatorios que sigan una distribución normal\n",
        "  W1 = tf.Variable(tf.truncated_normal([784, 200], stddev=0.1)) #(X)\n",
        "  B1 = tf.Variable(tf.zeros([200])) #(X)\n",
        "  W2 = tf.Variable(tf.truncated_normal([200, 100], stddev=0.1)) #(X)\n",
        "  B2 = tf.Variable(tf.zeros([100])) #(X)\n",
        "  W3 = tf.Variable(tf.truncated_normal([100, 60], stddev=0.1)) #(X)\n",
        "  B3 = tf.Variable(tf.zeros([60])) #(X)\n",
        "  W4 = tf.Variable(tf.truncated_normal([60, 30], stddev=0.1)) #(X)\n",
        "  B4 = tf.Variable(tf.zeros([30])) #(X)\n",
        "  W5 = tf.Variable(tf.truncated_normal([30, 10], stddev=0.1)) #(X)\n",
        "  B5 = tf.Variable(tf.zeros([10])) #(X)\n",
        "\n",
        "  # Calculamos las predicciones\n",
        "  Y1 = act_function(tf.matmul(X,W1) + B1) #(X)\n",
        "  Y2 = act_function(tf.matmul(Y1,W2) + B2) #(X)\n",
        "  Y3 = act_function(tf.matmul(Y2,W3) + B3) #(X)\n",
        "  Y4 = act_function(tf.matmul(Y3,W4) + B4) #(X)\n",
        "  Y_logits = tf.matmul(Y4,W5) + B5 \n",
        "  Y_pred = tf.nn.softmax(Y_logits)\n",
        "\n",
        "  # Definimos función de pérdidas (Cross_entropy)\n",
        "  loss = tf.reduce_mean(tf.nn.softmax_cross_entropy_with_logits_v2(logits=Y_logits, labels=Y_true)) \n",
        "  #loss = tf.reduce_mean(-tf.reduce_sum(Y_true * tf.log(Y_pred), reduction_indices=1)) #(X)\n",
        "  #loss = tf.reduce_mean(-tf.reduce_sum(Y_true*tf.log(Y_pred), reduction_indices=1))\n",
        "\n",
        "  # Optimizador SGD\n",
        "  train = optimizer(lr).minimize(loss) #(X)\n",
        "\n",
        "  # % de predicciones correctas en un determinado batch (i.e. accuracy)\n",
        "  is_correct = tf.equal(tf.argmax(Y_pred,1), tf.argmax(Y_true,1))\n",
        "  accuracy = tf.reduce_mean(tf.cast(is_correct, tf.float32))\n",
        "  \n",
        "  # Inicializamos variables\n",
        "  init = tf.initializers.global_variables() #(X)\n",
        "\n",
        "  # Abrimos la sesión\n",
        "  with tf.Session() as sess:\n",
        "    sess.run(init) #(X)\n",
        "    # Entrenamiento de nuestra red\n",
        "    acc_epoch_tr = []\n",
        "    acc_epoch_val = []\n",
        "    loss_epoch_tr = []\n",
        "    loss_epoch_val = []\n",
        "    for epoch in range(n_epochs):\n",
        "      avg_acc = 0.\n",
        "      avg_loss = 0.\n",
        "      steps = int(mnist.train.num_examples/batch_size) #(X) Calcular número de batches\n",
        "      for i in range(steps):\n",
        "        batch_X, batch_Y = mnist.train.next_batch(batch_size) #(X) # Pedir un nuevo batch del set de datos (emplear función next_batch)\n",
        "        sess.run(train, feed_dict={X: batch_X, Y_true: batch_Y}) #(X) # Entrenamos \n",
        "        a,l = sess.run([accuracy, loss], feed_dict={X: batch_X, Y_true: batch_Y}) #(X) # Calculamos accuracy y cross_entropy del batch\n",
        "        avg_acc += a / steps #(X) Calcular el accuracy medio de los diferentes batches\n",
        "        avg_loss += l / steps #(X) Calcular las pérdidas medias de los diferentes batches\n",
        "      # Almacenamos el accuracy y las losses medios para cada época\n",
        "      acc_epoch_tr.append(avg_acc) #(X)\n",
        "      loss_epoch_tr.append(avg_loss) #(X)\n",
        "      # Calculamos accuracy y losses en validation\n",
        "      a_val, l_val = sess.run([accuracy, loss], feed_dict={X: mnist.validation.images, Y_true: mnist.validation.labels}) #(X)\n",
        "      acc_epoch_val.append(a_val) #(X)\n",
        "      loss_epoch_val.append(l_val) #(X)\n",
        "      # Sacamos información por pantalla\n",
        "      print(\"[INFO]: Época {} ---> Acc_train = {} - Loss_train = {} - Acc_val = {} - Loss_val = {}\".format(epoch, avg_acc, avg_loss, a_val, l_val)) #(X)\n",
        "\n",
        "    # Cálculo de accuracy y losses en el conjunto de test\n",
        "    a_test, l_test = sess.run([accuracy, loss], feed_dict={X: mnist.test.images, Y_true: mnist.test.labels}) #(X)\n",
        "    print(\"[INFO]: Accuracy en test = {} - Losses en test = {}\".format(a_test, l_test)) #(X)\n",
        "\n",
        "    # Gráficar losses por época\n",
        "    plt.plot(np.arange(0, n_epochs), loss_epoch_tr) #(X)\n",
        "    plt.plot(np.arange(0, n_epochs), loss_epoch_val)\n",
        "    plt.legend(['train', 'val'], loc='upper left')\n",
        "    plt.title('Training Loss') #(X)\n",
        "    plt.xlabel('Epoch #') #(X)\n",
        "    plt.ylabel('Loss') #(X)\n",
        "    \n",
        "b_size = 128\n",
        "n_epochs = 50\n",
        "lr = 0.005\n",
        "act_function = tf.nn.relu\n",
        "optimizer = tf.train.GradientDescentOptimizer\n",
        "train_deep_net(lr, b_size, n_epochs, act_function, optimizer)'''"
      ],
      "execution_count": null,
      "outputs": []
    }
  ]
}